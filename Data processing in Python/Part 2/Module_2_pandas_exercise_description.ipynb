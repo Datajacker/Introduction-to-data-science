{
  "nbformat": 4,
  "nbformat_minor": 0,
  "metadata": {
    "colab": {
      "name": "Module-2-pandas-exercise-description.ipynb",
      "provenance": [],
      "collapsed_sections": []
    },
    "kernelspec": {
      "name": "python3",
      "display_name": "Python 3"
    }
  },
  "cells": [
    {
      "cell_type": "markdown",
      "metadata": {
        "id": "fMcnXE8CajrT",
        "colab_type": "text"
      },
      "source": [
        "Download this data to use in the exercise:\n",
        "\n",
        "https://www.kaggle.com/the-guardian/olympic-games/data\n",
        "\n",
        "This exercise looks at data on all of the past olympics (up to 2014). Follow allong the text and use code cells to answer the questions.\n",
        "\n",
        "First, use the following code to initialize your backend and upload the datasets to colaboratory."
      ]
    },
    {
      "cell_type": "code",
      "metadata": {
        "id": "UAaGa0WEZqol",
        "colab_type": "code",
        "colab": {}
      },
      "source": [
        "import pandas as pd\n",
        "pd.options.display.max_rows = 200\n",
        "# The following is code for uploading a file to the colab.research.google \n",
        "# environment.\n",
        "\n",
        "# library for uploading files\n",
        "from google.colab import files \n",
        "\n",
        "def upload_files():\n",
        "    # initiates the upload - follow the dialogues that appear\n",
        "    uploaded = files.upload()\n",
        "\n",
        "    # verify the upload\n",
        "    for fn in uploaded.keys():\n",
        "        print('User uploaded file \"{name}\" with length {length} bytes'.format(\n",
        "            name=fn, length=len(uploaded[fn])))\n",
        "\n",
        "    # uploaded files need to be written to file to interact with them\n",
        "    # as part of a file system\n",
        "    for filename in uploaded.keys():\n",
        "        with open(filename, 'wb') as f:\n",
        "            f.write(uploaded[filename])"
      ],
      "execution_count": 0,
      "outputs": []
    },
    {
      "cell_type": "code",
      "metadata": {
        "id": "d7PUid6eaw30",
        "colab_type": "code",
        "outputId": "1b39a7f1-2340-4e1a-feeb-0354a8ca6009",
        "colab": {
          "resources": {
            "http://localhost:8080/nbextensions/google.colab/files.js": {
              "data": "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",
              "ok": true,
              "headers": [
                [
                  "content-type",
                  "application/javascript"
                ]
              ],
              "status": 200,
              "status_text": ""
            }
          },
          "base_uri": "https://localhost:8080/",
          "height": 192
        }
      },
      "source": [
        "upload_files()"
      ],
      "execution_count": 0,
      "outputs": [
        {
          "output_type": "display_data",
          "data": {
            "text/html": [
              "\n",
              "     <input type=\"file\" id=\"files-56fe3cba-ea5d-48eb-8111-98ba45031382\" name=\"files[]\" multiple disabled />\n",
              "     <output id=\"result-56fe3cba-ea5d-48eb-8111-98ba45031382\">\n",
              "      Upload widget is only available when the cell has been executed in the\n",
              "      current browser session. Please rerun this cell to enable.\n",
              "      </output>\n",
              "      <script src=\"/nbextensions/google.colab/files.js\"></script> "
            ],
            "text/plain": [
              "<IPython.core.display.HTML object>"
            ]
          },
          "metadata": {
            "tags": []
          }
        },
        {
          "output_type": "stream",
          "text": [
            "Saving dictionary.csv to dictionary.csv\n",
            "Saving summer.csv to summer.csv\n",
            "Saving winter.csv to winter.csv\n",
            "User uploaded file \"dictionary.csv\" with length 7624 bytes\n",
            "User uploaded file \"summer.csv\" with length 2573921 bytes\n",
            "User uploaded file \"winter.csv\" with length 466225 bytes\n"
          ],
          "name": "stdout"
        }
      ]
    },
    {
      "cell_type": "markdown",
      "metadata": {
        "id": "uQ9uagHFiS5Y",
        "colab_type": "text"
      },
      "source": [
        "## Basics"
      ]
    },
    {
      "cell_type": "markdown",
      "metadata": {
        "id": "Q1V_p4JTa34r",
        "colab_type": "text"
      },
      "source": [
        "1) Load the three data files as DataFrames."
      ]
    },
    {
      "cell_type": "code",
      "metadata": {
        "id": "fZDe_H3tazTf",
        "colab_type": "code",
        "colab": {}
      },
      "source": [
        "country_dict_df = pd.read_csv(\"dictionary.csv\")\n",
        "summer_df = pd.read_csv(\"summer.csv\")\n",
        "winter_df = pd.read_csv(\"winter.csv\")"
      ],
      "execution_count": 0,
      "outputs": []
    },
    {
      "cell_type": "markdown",
      "metadata": {
        "id": "7PtZllvbe714",
        "colab_type": "text"
      },
      "source": [
        "2) Get a basic feel for the schemas of these three dataframes. Run some of the EDA techniques we discussed."
      ]
    },
    {
      "cell_type": "markdown",
      "metadata": {
        "id": "jx783yoIhp1J",
        "colab_type": "text"
      },
      "source": [
        "3) The semantics of this data all looks pretty straight forward. Can we verify that the Population column is not a power of ten? Try querying for just the 'Canada' row in the country dictionary DataFrame to verify this. (Tip: use `.loc`)"
      ]
    },
    {
      "cell_type": "code",
      "metadata": {
        "id": "Kuhaep2KIVrK",
        "colab_type": "code",
        "colab": {}
      },
      "source": [
        ""
      ],
      "execution_count": 0,
      "outputs": []
    },
    {
      "cell_type": "markdown",
      "metadata": {
        "id": "Kvh4laOUjR9c",
        "colab_type": "text"
      },
      "source": [
        "4) Looking at just the Summer olympics let's do some querying. Every query here can be done in one line each:\n",
        "\n",
        ">a) Display the row corresponding to athlete Kate Walsh's medal.\n",
        "\n",
        ">b) Display just the City corresponding to athlete Kate Walsh's medal.\n",
        "\n",
        ">c) List each sport found in the summer olympics DataFrame\n",
        "\n",
        ">d) What medal did Cristian Gatu win in 1976?\n",
        "\n",
        ">e) How many medals have been won by USA and China cummulative? Hint: Use `.count()` after a query to count the rows.\n"
      ]
    },
    {
      "cell_type": "code",
      "metadata": {
        "id": "Jfb9Xz09Ih08",
        "colab_type": "code",
        "colab": {}
      },
      "source": [
        ""
      ],
      "execution_count": 0,
      "outputs": []
    },
    {
      "cell_type": "markdown",
      "metadata": {
        "id": "hxyXNttaoGlx",
        "colab_type": "text"
      },
      "source": [
        "5) Let's do some sorting! I want you to make two DataFrame variables:\n",
        "\n",
        "\n",
        "*   Sort the country dictionary by Population from lowest to highest\n",
        "*   Sort the country dictionary by population from highest to lowest\n",
        "\n",
        "Make sure you save the results of each sort to a variable.\n",
        "\n",
        "Next, call `.reset_index(drop=True)` on each of the new variables you created. What has this done?\n",
        "\n",
        "Finally, we are interested in know the country name with the largest population and the country name with the\n",
        "smallest population. Fortunately, the data structures we just created lend themselves nicely to this task. Query\n",
        "for the Country name in the first row of each of DataFrames you created in this question. (hint: Use `.at[,]`)\n"
      ]
    },
    {
      "cell_type": "code",
      "metadata": {
        "id": "TvqJ9isTJC0W",
        "colab_type": "code",
        "colab": {}
      },
      "source": [
        ""
      ],
      "execution_count": 0,
      "outputs": []
    },
    {
      "cell_type": "markdown",
      "metadata": {
        "id": "bok22kSkrKIC",
        "colab_type": "text"
      },
      "source": [
        "6) Grouping time! Remember the group and aggregate paradigm for these tasks.\n",
        "\n",
        "Let's use the winter olympics DataFrame this time. Can you display:\n",
        "\n",
        ">a) The number of medals for each country? (hint: use `.groupby` and then `.count`)\n",
        "\n",
        ">b) The number of medals for each sport. Treat Mens and Womens categories as separate sports? (Hint: groupby can take a list of column names)\n",
        "\n",
        ">c) The Average number of medals in a year they competed for each country? This one requires two groupby statements. First, groupby two columns and aggregate. Then use groupby on that output to compute an average."
      ]
    },
    {
      "cell_type": "code",
      "metadata": {
        "id": "7VS8clktJGEg",
        "colab_type": "code",
        "colab": {}
      },
      "source": [
        ""
      ],
      "execution_count": 0,
      "outputs": []
    },
    {
      "cell_type": "markdown",
      "metadata": {
        "id": "VmOaHaaYEx-J",
        "colab_type": "text"
      },
      "source": [
        "7) value_counts() is a method that can be used on a Series (individual column) to quickly summarize the contents. It is similar to calling groupby, count and then sort_values. I want to show how this method works and some tricks you can use with it. We are going to use the winter olmpics DataFrame again.\n",
        "\n",
        ">a) Use .value_counts() on the Sport column to see what Sports exist and how many medals have been won in each sport. Save the output to a variable.\n",
        "\n",
        ">b) Notice that the output of value_counts is a Series where the values are the counts and the indices are the labels. Display the largest value in the Series you produced in a). (Hint: use .iat)\n",
        "\n",
        ">c) How many medals have been won in the \"Skating\" sport? (hint: sport names are the indices of the series so you can access them directly with the [] operator)\n",
        "\n",
        ">d) Sometimes it can be easier to work with data as a DataFrame than a Series (e.g. using the loc operator). Use .reset_index() on your Series to turn the value_counts() series into a DataFrame."
      ]
    },
    {
      "cell_type": "code",
      "metadata": {
        "id": "UJEn4dIJJJjh",
        "colab_type": "code",
        "colab": {}
      },
      "source": [
        ""
      ],
      "execution_count": 0,
      "outputs": []
    },
    {
      "cell_type": "markdown",
      "metadata": {
        "id": "hgNRWDVxH2yT",
        "colab_type": "text"
      },
      "source": [
        "8) Joins. The country dict is a great example of where you can use a join to connect two DataFrames. Our goal for this question is to join the winter olympics DataFrame with the country dictionary so that every row in the winter olympics dataframe also contains the Country name (not just the country code), Population, and GDP per Capita:\n",
        "\n",
        ">a) Use set_index() on the country dictionary DataFrame and set the index to be the country code.\n",
        "\n",
        ">b) Call .join using the winter olympics DataFrame. The tricky part is deciding what the arguments should be. The first argument should be the DataFrame from a). The join should be done on the \"Country\" column. Give informative suffix values for lsuffix and rsuffix so that there isn't name conflicts. You decide what value should be used for \"how\" so that each row corresponds to a row in the winter olympics DataFrame."
      ]
    },
    {
      "cell_type": "code",
      "metadata": {
        "id": "5B4aKn7UJMCo",
        "colab_type": "code",
        "colab": {}
      },
      "source": [
        ""
      ],
      "execution_count": 0,
      "outputs": []
    },
    {
      "cell_type": "markdown",
      "metadata": {
        "id": "ZRLGG_xfLUmo",
        "colab_type": "text"
      },
      "source": [
        "9) Apply. The apply method can be very powerful as it allows you to modify or create columns with arbitrary functions. Let's make a new column in the winter olympics DataFrame that contains the Athlete's last name only. Follow these steps:\n",
        ">a) Write a function that takes a string in the format \"x, y\" and returns the \"x\" portion. You can use the .split string method to accomplish this.\n",
        "\n",
        ">b) Call .apply on the Athlete column and give your function you wrote in a) as the argument. Assign the output to a new column named \"athlete_last_name\"."
      ]
    },
    {
      "cell_type": "code",
      "metadata": {
        "id": "Jt5QTFW1JNzZ",
        "colab_type": "code",
        "colab": {}
      },
      "source": [
        ""
      ],
      "execution_count": 0,
      "outputs": []
    },
    {
      "cell_type": "markdown",
      "metadata": {
        "id": "uPPLAI-dd0wV",
        "colab_type": "text"
      },
      "source": [
        "## Advanced Questions\n",
        "\n"
      ]
    },
    {
      "cell_type": "markdown",
      "metadata": {
        "id": "ejlVd9Tvkm_g",
        "colab_type": "text"
      },
      "source": [
        "1) What country has the most medals in the summer olympics overall? Please return the name of the country. Your code should do look up the name of the country from the country codes dictionary."
      ]
    },
    {
      "cell_type": "code",
      "metadata": {
        "id": "IGsntvTLJRyf",
        "colab_type": "code",
        "colab": {}
      },
      "source": [
        ""
      ],
      "execution_count": 0,
      "outputs": []
    },
    {
      "cell_type": "markdown",
      "metadata": {
        "id": "sra2rCAcoYZO",
        "colab_type": "text"
      },
      "source": [
        "For each country, what sport have they won the most Gold medals in? Consider\n",
        " * 2) Just the summer olympics.\n",
        " * 3) Just the winter olympics.\n",
        " * 4) Both the summer and winter olympics.\n",
        " \n",
        "Some bonus goals:\n",
        "\n",
        "*   Think about how to organize your code to avoid repetition\n",
        "*   Display the results with informative column names\n",
        "*   Use full names of the countries\n",
        "*   Ignore countries that are not in the country codes dictionary\n",
        "\n"
      ]
    },
    {
      "cell_type": "code",
      "metadata": {
        "id": "OxEch-nIJUY9",
        "colab_type": "code",
        "colab": {}
      },
      "source": [
        ""
      ],
      "execution_count": 0,
      "outputs": []
    },
    {
      "cell_type": "markdown",
      "metadata": {
        "id": "597P9sad04XC",
        "colab_type": "text"
      },
      "source": [
        "5) For each country, what is the average medal count for each gender? The average should be across years. This time report the average taking both summer and winter olympics into account."
      ]
    },
    {
      "cell_type": "code",
      "metadata": {
        "id": "yXvrDbfnJWe6",
        "colab_type": "code",
        "colab": {}
      },
      "source": [
        ""
      ],
      "execution_count": 0,
      "outputs": []
    },
    {
      "cell_type": "markdown",
      "metadata": {
        "id": "KK_WtwGHHdBK",
        "colab_type": "text"
      },
      "source": [
        "6) Get the top 5 athletes in terms of how many separate olympics they have appeared at? (NOT the most medals). Use both the winter and summer olympics. Treat the winter and summer olympics as separate olympics."
      ]
    },
    {
      "cell_type": "code",
      "metadata": {
        "id": "luNcu2JmJYT3",
        "colab_type": "code",
        "colab": {}
      },
      "source": [
        ""
      ],
      "execution_count": 0,
      "outputs": []
    },
    {
      "cell_type": "markdown",
      "metadata": {
        "id": "mlDBbHBiFGHU",
        "colab_type": "text"
      },
      "source": [
        "Optional: 7) Come up with your own analytical question. What interesting things can you ask the data? Use pandas to answer the question. If possible, elaborate how the answer could be used."
      ]
    },
    {
      "cell_type": "code",
      "metadata": {
        "id": "BASVuAs4JZiE",
        "colab_type": "code",
        "colab": {}
      },
      "source": [
        ""
      ],
      "execution_count": 0,
      "outputs": []
    }
  ]
}